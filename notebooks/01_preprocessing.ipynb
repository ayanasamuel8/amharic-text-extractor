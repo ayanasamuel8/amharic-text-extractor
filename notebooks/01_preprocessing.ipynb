{
 "cells": [
  {
   "cell_type": "markdown",
   "id": "7d06d8de",
   "metadata": {},
   "source": [
    "# 📦 1. Import & Setup"
   ]
  },
  {
   "cell_type": "code",
   "execution_count": 1,
   "id": "988653bb",
   "metadata": {},
   "outputs": [
    {
     "data": {
      "application/vnd.jupyter.widget-view+json": {
       "model_id": "e7ff916b4e044d11b99b962c4cc0c988",
       "version_major": 2,
       "version_minor": 0
      },
      "text/plain": [
       "tokenizer_config.json:   0%|          | 0.00/25.0 [00:00<?, ?B/s]"
      ]
     },
     "metadata": {},
     "output_type": "display_data"
    },
    {
     "name": "stderr",
     "output_type": "stream",
     "text": [
      "c:\\Users\\user\\OneDrive\\Documents\\Data Science\\amharic-text-extractor\\EthioMart-NER-Project\\.venv\\Lib\\site-packages\\huggingface_hub\\file_download.py:143: UserWarning: `huggingface_hub` cache-system uses symlinks by default to efficiently store duplicated files but your machine does not support them in C:\\Users\\user\\.cache\\huggingface\\hub\\models--xlm-roberta-base. Caching files will still work but in a degraded version that might require more space on your disk. This warning can be disabled by setting the `HF_HUB_DISABLE_SYMLINKS_WARNING` environment variable. For more details, see https://huggingface.co/docs/huggingface_hub/how-to-cache#limitations.\n",
      "To support symlinks on Windows, you either need to activate Developer Mode or to run Python as an administrator. In order to activate developer mode, see this article: https://docs.microsoft.com/en-us/windows/apps/get-started/enable-your-device-for-development\n",
      "  warnings.warn(message)\n"
     ]
    },
    {
     "data": {
      "application/vnd.jupyter.widget-view+json": {
       "model_id": "d439bcae4aa24c82a98f72e6ed265931",
       "version_major": 2,
       "version_minor": 0
      },
      "text/plain": [
       "config.json:   0%|          | 0.00/615 [00:00<?, ?B/s]"
      ]
     },
     "metadata": {},
     "output_type": "display_data"
    },
    {
     "data": {
      "application/vnd.jupyter.widget-view+json": {
       "model_id": "d144504b7f4845868edc0d7cd6450876",
       "version_major": 2,
       "version_minor": 0
      },
      "text/plain": [
       "sentencepiece.bpe.model:   0%|          | 0.00/5.07M [00:00<?, ?B/s]"
      ]
     },
     "metadata": {},
     "output_type": "display_data"
    },
    {
     "data": {
      "application/vnd.jupyter.widget-view+json": {
       "model_id": "c5ca4d8c58b5419083d3cd99061e6b47",
       "version_major": 2,
       "version_minor": 0
      },
      "text/plain": [
       "tokenizer.json:   0%|          | 0.00/9.10M [00:00<?, ?B/s]"
      ]
     },
     "metadata": {},
     "output_type": "display_data"
    }
   ],
   "source": [
    "import pandas as pd\n",
    "from pathlib import Path\n",
    "\n",
    "# Load our reusable cleaning functions\n",
    "import sys\n",
    "sys.path.append('../scripts')  # Add path to access preprocess.py\n",
    "\n",
    "from preprocess import clean_text\n"
   ]
  },
  {
   "cell_type": "code",
   "execution_count": 2,
   "id": "fd3412d1",
   "metadata": {},
   "outputs": [],
   "source": [
    "from preprocess import preprocess_dataframe"
   ]
  },
  {
   "cell_type": "markdown",
   "id": "c62acb79",
   "metadata": {},
   "source": [
    "# 2. Load raw Telegram data"
   ]
  },
  {
   "cell_type": "code",
   "execution_count": 3,
   "id": "cd839627",
   "metadata": {},
   "outputs": [
    {
     "name": "stdout",
     "output_type": "stream",
     "text": [
      "Total messages loaded: 11996\n"
     ]
    },
    {
     "data": {
      "text/html": [
       "<div>\n",
       "<style scoped>\n",
       "    .dataframe tbody tr th:only-of-type {\n",
       "        vertical-align: middle;\n",
       "    }\n",
       "\n",
       "    .dataframe tbody tr th {\n",
       "        vertical-align: top;\n",
       "    }\n",
       "\n",
       "    .dataframe thead th {\n",
       "        text-align: right;\n",
       "    }\n",
       "</style>\n",
       "<table border=\"1\" class=\"dataframe\">\n",
       "  <thead>\n",
       "    <tr style=\"text-align: right;\">\n",
       "      <th></th>\n",
       "      <th>Channel Title</th>\n",
       "      <th>Channel Username</th>\n",
       "      <th>ID</th>\n",
       "      <th>Message</th>\n",
       "      <th>Date</th>\n",
       "      <th>Media Path</th>\n",
       "    </tr>\n",
       "  </thead>\n",
       "  <tbody>\n",
       "    <tr>\n",
       "      <th>0</th>\n",
       "      <td>መነሻዬ</td>\n",
       "      <td>@meneshayeofficial</td>\n",
       "      <td>1036</td>\n",
       "      <td>ለውድ ልጆዎ #ስጦታ ከመነሻዬ\\nምንም አይነት ባትሪና ኤሌክትሪክ የማይፈል...</td>\n",
       "      <td>2025-06-20 15:46:18+00:00</td>\n",
       "      <td>NaN</td>\n",
       "    </tr>\n",
       "    <tr>\n",
       "      <th>1</th>\n",
       "      <td>መነሻዬ</td>\n",
       "      <td>@meneshayeofficial</td>\n",
       "      <td>1035</td>\n",
       "      <td>አማርኛና እንግሊዘኛ በቀላሉ ማንበብና መፃፍ የሚያስችል 150 ካርድ ያለው...</td>\n",
       "      <td>2025-06-19 15:18:55+00:00</td>\n",
       "      <td>photos\\@meneshayeofficial_1035.jpg</td>\n",
       "    </tr>\n",
       "    <tr>\n",
       "      <th>2</th>\n",
       "      <td>መነሻዬ</td>\n",
       "      <td>@meneshayeofficial</td>\n",
       "      <td>1034</td>\n",
       "      <td>የሂሳብ ሊቅ መነሻ ጥቅል\\n\\nልጆችዎ  ቁጥርን ከመቁጠር  ጀምሮ  ሂሳብን...</td>\n",
       "      <td>2025-06-18 16:55:12+00:00</td>\n",
       "      <td>NaN</td>\n",
       "    </tr>\n",
       "    <tr>\n",
       "      <th>3</th>\n",
       "      <td>መነሻዬ</td>\n",
       "      <td>@meneshayeofficial</td>\n",
       "      <td>1032</td>\n",
       "      <td>ከእርሳስ አያያዝ ጀምሮ አማርኛና እንግሊዘኛ በቀላሉ ማንበብና መፃፍ የሚያ...</td>\n",
       "      <td>2025-06-18 09:06:42+00:00</td>\n",
       "      <td>photos\\@meneshayeofficial_1032.jpg</td>\n",
       "    </tr>\n",
       "    <tr>\n",
       "      <th>4</th>\n",
       "      <td>መነሻዬ</td>\n",
       "      <td>@meneshayeofficial</td>\n",
       "      <td>1031</td>\n",
       "      <td>ገላግሌ የልጆች ምግብ መስሪያ\\nየልጆችን ልብ የሚያሸንፍ፣ የእናትን ጊዜ ...</td>\n",
       "      <td>2025-06-17 16:00:09+00:00</td>\n",
       "      <td>NaN</td>\n",
       "    </tr>\n",
       "  </tbody>\n",
       "</table>\n",
       "</div>"
      ],
      "text/plain": [
       "  Channel Title    Channel Username    ID  \\\n",
       "0          መነሻዬ  @meneshayeofficial  1036   \n",
       "1          መነሻዬ  @meneshayeofficial  1035   \n",
       "2          መነሻዬ  @meneshayeofficial  1034   \n",
       "3          መነሻዬ  @meneshayeofficial  1032   \n",
       "4          መነሻዬ  @meneshayeofficial  1031   \n",
       "\n",
       "                                             Message  \\\n",
       "0  ለውድ ልጆዎ #ስጦታ ከመነሻዬ\\nምንም አይነት ባትሪና ኤሌክትሪክ የማይፈል...   \n",
       "1  አማርኛና እንግሊዘኛ በቀላሉ ማንበብና መፃፍ የሚያስችል 150 ካርድ ያለው...   \n",
       "2  የሂሳብ ሊቅ መነሻ ጥቅል\\n\\nልጆችዎ  ቁጥርን ከመቁጠር  ጀምሮ  ሂሳብን...   \n",
       "3  ከእርሳስ አያያዝ ጀምሮ አማርኛና እንግሊዘኛ በቀላሉ ማንበብና መፃፍ የሚያ...   \n",
       "4  ገላግሌ የልጆች ምግብ መስሪያ\\nየልጆችን ልብ የሚያሸንፍ፣ የእናትን ጊዜ ...   \n",
       "\n",
       "                        Date                          Media Path  \n",
       "0  2025-06-20 15:46:18+00:00                                 NaN  \n",
       "1  2025-06-19 15:18:55+00:00  photos\\@meneshayeofficial_1035.jpg  \n",
       "2  2025-06-18 16:55:12+00:00                                 NaN  \n",
       "3  2025-06-18 09:06:42+00:00  photos\\@meneshayeofficial_1032.jpg  \n",
       "4  2025-06-17 16:00:09+00:00                                 NaN  "
      ]
     },
     "execution_count": 3,
     "metadata": {},
     "output_type": "execute_result"
    }
   ],
   "source": [
    "csv_path = Path('../data/raw/telegram_data.csv')\n",
    "df = pd.read_csv(csv_path)\n",
    "\n",
    "print(f\"Total messages loaded: {len(df)}\")\n",
    "df.head()"
   ]
  },
  {
   "cell_type": "markdown",
   "id": "6f426e9b",
   "metadata": {},
   "source": [
    "# 3. Apply full preprocessing pipeline to the 'Message' column"
   ]
  },
  {
   "cell_type": "code",
   "execution_count": 4,
   "id": "acd0030d",
   "metadata": {},
   "outputs": [
    {
     "name": "stderr",
     "output_type": "stream",
     "text": [
      "Token indices sequence length is longer than the specified maximum sequence length for this model (756 > 512). Running this sequence through the model will result in indexing errors\n"
     ]
    },
    {
     "name": "stdout",
     "output_type": "stream",
     "text": [
      "Total messages after cleaning: 7171\n"
     ]
    },
    {
     "data": {
      "text/html": [
       "<div>\n",
       "<style scoped>\n",
       "    .dataframe tbody tr th:only-of-type {\n",
       "        vertical-align: middle;\n",
       "    }\n",
       "\n",
       "    .dataframe tbody tr th {\n",
       "        vertical-align: top;\n",
       "    }\n",
       "\n",
       "    .dataframe thead th {\n",
       "        text-align: right;\n",
       "    }\n",
       "</style>\n",
       "<table border=\"1\" class=\"dataframe\">\n",
       "  <thead>\n",
       "    <tr style=\"text-align: right;\">\n",
       "      <th></th>\n",
       "      <th>Channel Title</th>\n",
       "      <th>Channel Username</th>\n",
       "      <th>ID</th>\n",
       "      <th>Message</th>\n",
       "      <th>Date</th>\n",
       "      <th>Media Path</th>\n",
       "      <th>cleaned_text</th>\n",
       "      <th>tokens</th>\n",
       "    </tr>\n",
       "  </thead>\n",
       "  <tbody>\n",
       "    <tr>\n",
       "      <th>0</th>\n",
       "      <td>መነሻዬ</td>\n",
       "      <td>@meneshayeofficial</td>\n",
       "      <td>1036</td>\n",
       "      <td>ለውድ ልጆዎ #ስጦታ ከመነሻዬ\\nምንም አይነት ባትሪና ኤሌክትሪክ የማይፈል...</td>\n",
       "      <td>2025-06-20 15:46:18+00:00</td>\n",
       "      <td>NaN</td>\n",
       "      <td>ለውድ ልጆዎ ስጦታ ከመነሻዬ ምንም አይነት ባትሪና ኤሌክትሪክ የማይፈልጉ ...</td>\n",
       "      <td>[▁, ለው, ድ, ▁ል, ጆ, ዎ, ▁ስጦታ, ▁ከ, መነ, ሻ, ዬ, ▁ምንም,...</td>\n",
       "    </tr>\n",
       "    <tr>\n",
       "      <th>1</th>\n",
       "      <td>መነሻዬ</td>\n",
       "      <td>@meneshayeofficial</td>\n",
       "      <td>1035</td>\n",
       "      <td>አማርኛና እንግሊዘኛ በቀላሉ ማንበብና መፃፍ የሚያስችል 150 ካርድ ያለው...</td>\n",
       "      <td>2025-06-19 15:18:55+00:00</td>\n",
       "      <td>photos\\@meneshayeofficial_1035.jpg</td>\n",
       "      <td>አማርኛና እንግሊዘኛ በቀላሉ ማንበብና መፃፍ የሚያስችል 150 ካርድ ያለው...</td>\n",
       "      <td>[▁አማርኛ, ና, ▁, እንግ, ሊ, ዘ, ኛ, ▁በቀላሉ, ▁ማን, በብ, ና,...</td>\n",
       "    </tr>\n",
       "    <tr>\n",
       "      <th>2</th>\n",
       "      <td>መነሻዬ</td>\n",
       "      <td>@meneshayeofficial</td>\n",
       "      <td>1034</td>\n",
       "      <td>የሂሳብ ሊቅ መነሻ ጥቅል\\n\\nልጆችዎ  ቁጥርን ከመቁጠር  ጀምሮ  ሂሳብን...</td>\n",
       "      <td>2025-06-18 16:55:12+00:00</td>\n",
       "      <td>NaN</td>\n",
       "      <td>የሂሳብ ሊቅ መነሻ ጥቅል ልጆችዎ ቁጥርን ከመቁጠር ጀምሮ ሂሳብን በቀላሉ ...</td>\n",
       "      <td>[▁የ, ሂ, ሳብ, ▁ሊ, ቅ, ▁መነሻ, ▁ጥ, ቅል, ▁ልጆች, ዎ, ▁ቁጥር...</td>\n",
       "    </tr>\n",
       "  </tbody>\n",
       "</table>\n",
       "</div>"
      ],
      "text/plain": [
       "  Channel Title    Channel Username    ID  \\\n",
       "0          መነሻዬ  @meneshayeofficial  1036   \n",
       "1          መነሻዬ  @meneshayeofficial  1035   \n",
       "2          መነሻዬ  @meneshayeofficial  1034   \n",
       "\n",
       "                                             Message  \\\n",
       "0  ለውድ ልጆዎ #ስጦታ ከመነሻዬ\\nምንም አይነት ባትሪና ኤሌክትሪክ የማይፈል...   \n",
       "1  አማርኛና እንግሊዘኛ በቀላሉ ማንበብና መፃፍ የሚያስችል 150 ካርድ ያለው...   \n",
       "2  የሂሳብ ሊቅ መነሻ ጥቅል\\n\\nልጆችዎ  ቁጥርን ከመቁጠር  ጀምሮ  ሂሳብን...   \n",
       "\n",
       "                        Date                          Media Path  \\\n",
       "0  2025-06-20 15:46:18+00:00                                 NaN   \n",
       "1  2025-06-19 15:18:55+00:00  photos\\@meneshayeofficial_1035.jpg   \n",
       "2  2025-06-18 16:55:12+00:00                                 NaN   \n",
       "\n",
       "                                        cleaned_text  \\\n",
       "0  ለውድ ልጆዎ ስጦታ ከመነሻዬ ምንም አይነት ባትሪና ኤሌክትሪክ የማይፈልጉ ...   \n",
       "1  አማርኛና እንግሊዘኛ በቀላሉ ማንበብና መፃፍ የሚያስችል 150 ካርድ ያለው...   \n",
       "2  የሂሳብ ሊቅ መነሻ ጥቅል ልጆችዎ ቁጥርን ከመቁጠር ጀምሮ ሂሳብን በቀላሉ ...   \n",
       "\n",
       "                                              tokens  \n",
       "0  [▁, ለው, ድ, ▁ል, ጆ, ዎ, ▁ስጦታ, ▁ከ, መነ, ሻ, ዬ, ▁ምንም,...  \n",
       "1  [▁አማርኛ, ና, ▁, እንግ, ሊ, ዘ, ኛ, ▁በቀላሉ, ▁ማን, በብ, ና,...  \n",
       "2  [▁የ, ሂ, ሳብ, ▁ሊ, ቅ, ▁መነሻ, ▁ጥ, ቅል, ▁ልጆች, ዎ, ▁ቁጥር...  "
      ]
     },
     "execution_count": 4,
     "metadata": {},
     "output_type": "execute_result"
    }
   ],
   "source": [
    "df_processed = preprocess_dataframe(df, text_col='Message')\n",
    "\n",
    "print(f\"Total messages after cleaning: {len(df_processed)}\")\n",
    "df_processed.head(3)\n"
   ]
  },
  {
   "cell_type": "markdown",
   "id": "82e0dc5b",
   "metadata": {},
   "source": [
    "# 4. View some examples with tokens"
   ]
  },
  {
   "cell_type": "code",
   "execution_count": null,
   "id": "65b1074a",
   "metadata": {},
   "outputs": [
    {
     "name": "stdout",
     "output_type": "stream",
     "text": [
      "Original Message:\n",
      "Nike craft GPS\n",
      "Size 40,41,42,43,44\n",
      "Price 2900 birr\n",
      "🏢አድራሻ-ሜክሲኮ ኮሜርስ ጀርባ መዚድ ፕላዛ የመጀመሪያ ደረጃ እንደወጡ 101 የቢሮ ቁጥር ያገኙናል or call 0920238243\n",
      "\n",
      "Cleaned Text:\n",
      "40,41,42,43,44 2900 አድራሻሜክሲኮ ኮሜርስ ጀርባ መዚድ ፕላዛ የመጀመሪያ ደረጃ እንደወጡ 101 የቢሮ ቁጥር ያገኙናል 0920238243\n",
      "\n",
      "Tokens:\n",
      "['▁40', ',', '41', ',', '42', ',', '43', ',', '44', '▁2', '900', '▁አድራሻ', 'ሜ', 'ክሲ', 'ኮ', '▁ኮ', 'ሜ', 'ርስ', '▁ጀርባ', '▁መ', 'ዚ', 'ድ', '▁', 'ፕ', 'ላ', 'ዛ', '▁የመጀመሪያ', '▁ደረጃ', '▁እንደ', 'ወጡ', '▁101', '▁የ', 'ቢ', 'ሮ', '▁ቁጥር', '▁', 'ያገኙ', 'ናል', '▁09', '20', '23', '82', '43']\n",
      "\n",
      "------------------------------------------------------------\n",
      "Original Message:\n",
      "G-designer leather  \n",
      "size 39,40,41,42,43,44\n",
      "Price 4200 birr\n",
      "📌አድራሻ-ሜክሲኮ ኮሜርስ ጀርባ መዚድ ፕላዛ የመጀመሪያ ደረጃ እንደወጡ 101 የቢሮ ቁጥር ያገኙናል or call 0920238243\n",
      "                                    EthioBrand ✅\n",
      "\n",
      "Cleaned Text:\n",
      "39,40,41,42,43,44 4200 አድራሻሜክሲኮ ኮሜርስ ጀርባ መዚድ ፕላዛ የመጀመሪያ ደረጃ እንደወጡ 101 የቢሮ ቁጥር ያገኙናል 0920238243\n",
      "\n",
      "Tokens:\n",
      "['▁39', ',', '40', ',', '41', ',', '42', ',', '43', ',', '44', '▁4', '200', '▁አድራሻ', 'ሜ', 'ክሲ', 'ኮ', '▁ኮ', 'ሜ', 'ርስ', '▁ጀርባ', '▁መ', 'ዚ', 'ድ', '▁', 'ፕ', 'ላ', 'ዛ', '▁የመጀመሪያ', '▁ደረጃ', '▁እንደ', 'ወጡ', '▁101', '▁የ', 'ቢ', 'ሮ', '▁ቁጥር', '▁', 'ያገኙ', 'ናል', '▁09', '20', '23', '82', '43']\n",
      "\n",
      "------------------------------------------------------------\n",
      "Original Message:\n",
      "❇️ Dancing Cactus Toy \n",
      "👉ልጆቼ በምን ይዝናኑ ብሎ መጨነቅ ቀረ \n",
      "⚡️የሕጻናት አጫዋች\n",
      "🪞በቻርጅ የሚሰራ\n",
      "🪞ድምጽ / ሙዚቃ  ሲከፈት የሚደንስ\n",
      "🪞የልጆችን ትኩረት የሚስብ\n",
      "🪞ልጆች በሚናገሩትን ደግሞ እያወራ የሚያዝናናቸው \n",
      "✔ተክል የሚመስል ጌጥ\n",
      "\n",
      "          💦 ዋጋ፦ ✅ 1100\n",
      "            0933334444 @LeMazez_z\n",
      "            0946242424 @Le_Mazez\n",
      "            0944109295 @Lemaze_z\n",
      "❤አድራሻዎቻችን አ.አ ቁጥር- 1 #ልደታ ባልቻ ሆስፒታል ጀርባ #አህመድ የገበያ ማዕከል 1ኛ ፎቅ #105/B ቁጥር\n",
      "ቁጥር -2 #22  ጎላጎል አጠገብ ካለዉ አዲስ ህንፃ ግራዉንድ ላይ G4 የቤት ዕቃ  መሸጫ\n",
      "#ከ_1000_ብር በላይ የሚተመኑ #ሁለት_ዕቃዎችን_ ሲገዙ ስጦታ እንልክለዎታለን \n",
      "🎁 T.me/Leyueqa 👈ቻናላችንን ለጓደኛዎ ሸር ማድረግዎን አይርሱ\n",
      "\n",
      "Cleaned Text:\n",
      "ልጆቼ በምን ይዝናኑ ብሎ መጨነቅ ቀረ የሕጻናት አጫዋች በቻርጅ የሚሰራ ድምጽ ሙዚቃ ሲከፈት የሚደንስ የልጆችን ትኩረት የሚስብ ልጆች በሚናገሩትን ደግሞ እያወራ የሚያዝናናቸው ተክል የሚመስል ጌጥ ዋጋ፦ 1100 0933334444 0946242424 0944109295 አድራሻዎቻችን አ.አ ቁጥር 1 ልደታ ባልቻ ሆስፒታል ጀርባ አህመድ የገበያ ማዕከል 1ኛ ፎቅ 105 ቁጥር ቁጥር 2 22 ጎላጎል አጠገብ ካለዉ አዲስ ህንፃ ግራዉንድ ላይ 4 የቤት ዕቃ መሸጫ ከ1000ብር በላይ የሚተመኑ ሁለትዕቃዎችን ሲገዙ ስጦታ እንልክለዎታለን . ቻናላችንን ለጓደኛዎ ሸር ማድረግዎን አይርሱ\n",
      "\n",
      "Tokens:\n",
      "['▁ል', 'ጆ', 'ቼ', '▁በምን', '▁ይ', 'ዝና', 'ኑ', '▁ብሎ', '▁መ', 'ጨ', 'ነቅ', '▁ቀ', 'ረ', '▁የሕ', 'ጻ', 'ናት', '▁አ', 'ጫ', 'ዋ', 'ች', '▁በ', 'ቻ', 'ር', 'ጅ', '▁የሚ', 'ሰራ', '▁ድምጽ', '▁ሙዚቃ', '▁ሲ', 'ከ', 'ፈት', '▁የሚ', 'ደን', 'ስ', '▁የ', 'ል', 'ጆች', 'ን', '▁ትኩረት', '▁የሚ', 'ስብ', '▁ልጆች', '▁በሚ', 'ናገሩ', 'ትን', '▁ደግሞ', '▁እያ', 'ወራ', '▁የሚያ', 'ዝና', 'ናቸው', '▁ተ', 'ክል', '▁የሚ', 'መስል', '▁', 'ጌ', 'ጥ', '▁ዋጋ', '፦', '▁1100', '▁09', '333', '34', '444', '▁09', '46', '24', '24', '24', '▁09', '44', '10', '92', '95', '▁አድራሻ', 'ዎቻችን', '▁አ', '.', 'አ', '▁ቁጥር', '▁1', '▁ል', 'ደ', 'ታ', '▁ባል', 'ቻ', '▁ሆስፒታል', '▁ጀርባ', '▁አህመድ', '▁የ', 'ገበያ', '▁ማዕከል', '▁1', 'ኛ', '▁', 'ፎ', 'ቅ', '▁105', '▁ቁጥር', '▁ቁጥር', '▁2', '▁22', '▁ጎ', 'ላ', 'ጎል', '▁አ', 'ጠ', 'ገብ', '▁ካለ', 'ዉ', '▁አዲስ', '▁', 'ህን', 'ፃ', '▁', 'ግራ', 'ዉን', 'ድ', '▁ላይ', '▁4', '▁የቤት', '▁ዕ', 'ቃ', '▁መ', 'ሸ', 'ጫ', '▁ከ', '1000', 'ብር', '▁በላይ', '▁የሚ', 'ተ', 'መ', 'ኑ', '▁ሁለት', 'ዕ', 'ቃ', 'ዎችን', '▁ሲ', 'ገ', 'ዙ', '▁ስጦታ', '▁እን', 'ልክ', 'ለ', 'ዎ', 'ታ', 'ለን', '▁', '.', '▁', 'ቻ', 'ና', 'ላችን', 'ን', '▁ለ', 'ጓደ', 'ኛ', 'ዎ', '▁ሸ', 'ር', '▁ማድረግ', 'ዎን', '▁አይ', 'ርሱ']\n",
      "\n",
      "------------------------------------------------------------\n",
      "Original Message:\n",
      "Jordan Stadium \n",
      "Size 40,41,42,43\n",
      "Price 3300 birr\n",
      "🏢አድራሻ-ሜክሲኮ ኮሜርስ ጀርባ መዚድ ፕላዛ የመጀመሪያ ደረጃ እንደወጡ 101 የቢሮ ቁጥር ያገኙናል or call 0920238243\n",
      "\n",
      "Cleaned Text:\n",
      "40,41,42,43 3300 አድራሻሜክሲኮ ኮሜርስ ጀርባ መዚድ ፕላዛ የመጀመሪያ ደረጃ እንደወጡ 101 የቢሮ ቁጥር ያገኙናል 0920238243\n",
      "\n",
      "Tokens:\n",
      "['▁40', ',', '41', ',', '42', ',', '43', '▁3', '300', '▁አድራሻ', 'ሜ', 'ክሲ', 'ኮ', '▁ኮ', 'ሜ', 'ርስ', '▁ጀርባ', '▁መ', 'ዚ', 'ድ', '▁', 'ፕ', 'ላ', 'ዛ', '▁የመጀመሪያ', '▁ደረጃ', '▁እንደ', 'ወጡ', '▁101', '▁የ', 'ቢ', 'ሮ', '▁ቁጥር', '▁', 'ያገኙ', 'ናል', '▁09', '20', '23', '82', '43']\n",
      "\n",
      "------------------------------------------------------------\n",
      "Original Message:\n",
      "Women Skechers af 01\n",
      "Size 36,37,38,39,40\n",
      "Price 2600 birr\n",
      "🏢አድራሻ-ሜክሲኮ ኮሜርስ ጀርባ መዚድ ፕላዛ የመጀመሪያ ደረጃ እንደወጡ 101 የቢሮ ቁጥር ያገኙናል or call 0920238243\n",
      "\n",
      "Cleaned Text:\n",
      "01 36,37,38,39,40 2600 አድራሻሜክሲኮ ኮሜርስ ጀርባ መዚድ ፕላዛ የመጀመሪያ ደረጃ እንደወጡ 101 የቢሮ ቁጥር ያገኙናል 0920238243\n",
      "\n",
      "Tokens:\n",
      "['▁01', '▁36', ',', '37', ',', '38', ',', '39', ',', '40', '▁2600', '▁አድራሻ', 'ሜ', 'ክሲ', 'ኮ', '▁ኮ', 'ሜ', 'ርስ', '▁ጀርባ', '▁መ', 'ዚ', 'ድ', '▁', 'ፕ', 'ላ', 'ዛ', '▁የመጀመሪያ', '▁ደረጃ', '▁እንደ', 'ወጡ', '▁101', '▁የ', 'ቢ', 'ሮ', '▁ቁጥር', '▁', 'ያገኙ', 'ናል', '▁09', '20', '23', '82', '43']\n",
      "\n",
      "------------------------------------------------------------\n"
     ]
    }
   ],
   "source": [
    "for i, row in df_processed.sample(5).iterrows():\n",
    "    print(f\"Original Message:\\n{row['Message']}\\n\")\n",
    "    print(f\"Cleaned Text:\\n{row['cleaned_text']}\\n\")\n",
    "    print(f\"Tokens:\\n{row['tokens']}\\n\")\n",
    "    print(\"-\"*60)\n"
   ]
  },
  {
   "cell_type": "markdown",
   "id": "1d45d22b",
   "metadata": {},
   "source": [
    "# 5. Save the cleaned and tokenized data for next steps\n"
   ]
  },
  {
   "cell_type": "code",
   "execution_count": 6,
   "id": "84be1a86",
   "metadata": {},
   "outputs": [
    {
     "name": "stdout",
     "output_type": "stream",
     "text": [
      "[✅] Saved cleaned and tokenized data to ..\\data\\processed\\preprocessed_messages.csv\n"
     ]
    }
   ],
   "source": [
    "output_path = Path('../data/processed/preprocessed_messages.csv')\n",
    "output_path.parent.mkdir(parents=True, exist_ok=True)\n",
    "\n",
    "df_processed.to_csv(output_path, index=False, encoding='utf-8-sig')\n",
    "print(f\"[✅] Saved cleaned and tokenized data to {output_path}\")\n"
   ]
  }
 ],
 "metadata": {
  "kernelspec": {
   "display_name": ".venv",
   "language": "python",
   "name": "python3"
  },
  "language_info": {
   "codemirror_mode": {
    "name": "ipython",
    "version": 3
   },
   "file_extension": ".py",
   "mimetype": "text/x-python",
   "name": "python",
   "nbconvert_exporter": "python",
   "pygments_lexer": "ipython3",
   "version": "3.13.5"
  }
 },
 "nbformat": 4,
 "nbformat_minor": 5
}
