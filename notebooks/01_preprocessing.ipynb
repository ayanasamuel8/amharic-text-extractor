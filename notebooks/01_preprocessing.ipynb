{
 "cells": [
  {
   "cell_type": "markdown",
   "id": "7d06d8de",
   "metadata": {},
   "source": [
    "# 📦 1. Import & Setup"
   ]
  },
  {
   "cell_type": "code",
   "execution_count": 1,
   "id": "988653bb",
   "metadata": {},
   "outputs": [],
   "source": [
    "import pandas as pd\n",
    "from pathlib import Path\n",
    "\n",
    "# Load our reusable cleaning functions\n",
    "import sys\n",
    "sys.path.append('../scripts')  # Add path to access preprocess.py\n",
    "\n",
    "from preprocess import clean_text\n"
   ]
  },
  {
   "cell_type": "code",
   "execution_count": 2,
   "id": "fd3412d1",
   "metadata": {},
   "outputs": [],
   "source": [
    "from preprocess import preprocess_dataframe"
   ]
  },
  {
   "cell_type": "markdown",
   "id": "c62acb79",
   "metadata": {},
   "source": [
    "# 2. Load raw Telegram data"
   ]
  },
  {
   "cell_type": "code",
   "execution_count": 3,
   "id": "cd839627",
   "metadata": {},
   "outputs": [
    {
     "name": "stdout",
     "output_type": "stream",
     "text": [
      "Total messages loaded: 11996\n"
     ]
    },
    {
     "data": {
      "text/html": [
       "<div>\n",
       "<style scoped>\n",
       "    .dataframe tbody tr th:only-of-type {\n",
       "        vertical-align: middle;\n",
       "    }\n",
       "\n",
       "    .dataframe tbody tr th {\n",
       "        vertical-align: top;\n",
       "    }\n",
       "\n",
       "    .dataframe thead th {\n",
       "        text-align: right;\n",
       "    }\n",
       "</style>\n",
       "<table border=\"1\" class=\"dataframe\">\n",
       "  <thead>\n",
       "    <tr style=\"text-align: right;\">\n",
       "      <th></th>\n",
       "      <th>Channel Title</th>\n",
       "      <th>Channel Username</th>\n",
       "      <th>ID</th>\n",
       "      <th>Message</th>\n",
       "      <th>Date</th>\n",
       "      <th>Media Path</th>\n",
       "    </tr>\n",
       "  </thead>\n",
       "  <tbody>\n",
       "    <tr>\n",
       "      <th>0</th>\n",
       "      <td>መነሻዬ</td>\n",
       "      <td>@meneshayeofficial</td>\n",
       "      <td>1036</td>\n",
       "      <td>ለውድ ልጆዎ #ስጦታ ከመነሻዬ\\nምንም አይነት ባትሪና ኤሌክትሪክ የማይፈል...</td>\n",
       "      <td>2025-06-20 15:46:18+00:00</td>\n",
       "      <td>NaN</td>\n",
       "    </tr>\n",
       "    <tr>\n",
       "      <th>1</th>\n",
       "      <td>መነሻዬ</td>\n",
       "      <td>@meneshayeofficial</td>\n",
       "      <td>1035</td>\n",
       "      <td>አማርኛና እንግሊዘኛ በቀላሉ ማንበብና መፃፍ የሚያስችል 150 ካርድ ያለው...</td>\n",
       "      <td>2025-06-19 15:18:55+00:00</td>\n",
       "      <td>photos\\@meneshayeofficial_1035.jpg</td>\n",
       "    </tr>\n",
       "    <tr>\n",
       "      <th>2</th>\n",
       "      <td>መነሻዬ</td>\n",
       "      <td>@meneshayeofficial</td>\n",
       "      <td>1034</td>\n",
       "      <td>የሂሳብ ሊቅ መነሻ ጥቅል\\n\\nልጆችዎ  ቁጥርን ከመቁጠር  ጀምሮ  ሂሳብን...</td>\n",
       "      <td>2025-06-18 16:55:12+00:00</td>\n",
       "      <td>NaN</td>\n",
       "    </tr>\n",
       "    <tr>\n",
       "      <th>3</th>\n",
       "      <td>መነሻዬ</td>\n",
       "      <td>@meneshayeofficial</td>\n",
       "      <td>1032</td>\n",
       "      <td>ከእርሳስ አያያዝ ጀምሮ አማርኛና እንግሊዘኛ በቀላሉ ማንበብና መፃፍ የሚያ...</td>\n",
       "      <td>2025-06-18 09:06:42+00:00</td>\n",
       "      <td>photos\\@meneshayeofficial_1032.jpg</td>\n",
       "    </tr>\n",
       "    <tr>\n",
       "      <th>4</th>\n",
       "      <td>መነሻዬ</td>\n",
       "      <td>@meneshayeofficial</td>\n",
       "      <td>1031</td>\n",
       "      <td>ገላግሌ የልጆች ምግብ መስሪያ\\nየልጆችን ልብ የሚያሸንፍ፣ የእናትን ጊዜ ...</td>\n",
       "      <td>2025-06-17 16:00:09+00:00</td>\n",
       "      <td>NaN</td>\n",
       "    </tr>\n",
       "  </tbody>\n",
       "</table>\n",
       "</div>"
      ],
      "text/plain": [
       "  Channel Title    Channel Username    ID  \\\n",
       "0          መነሻዬ  @meneshayeofficial  1036   \n",
       "1          መነሻዬ  @meneshayeofficial  1035   \n",
       "2          መነሻዬ  @meneshayeofficial  1034   \n",
       "3          መነሻዬ  @meneshayeofficial  1032   \n",
       "4          መነሻዬ  @meneshayeofficial  1031   \n",
       "\n",
       "                                             Message  \\\n",
       "0  ለውድ ልጆዎ #ስጦታ ከመነሻዬ\\nምንም አይነት ባትሪና ኤሌክትሪክ የማይፈል...   \n",
       "1  አማርኛና እንግሊዘኛ በቀላሉ ማንበብና መፃፍ የሚያስችል 150 ካርድ ያለው...   \n",
       "2  የሂሳብ ሊቅ መነሻ ጥቅል\\n\\nልጆችዎ  ቁጥርን ከመቁጠር  ጀምሮ  ሂሳብን...   \n",
       "3  ከእርሳስ አያያዝ ጀምሮ አማርኛና እንግሊዘኛ በቀላሉ ማንበብና መፃፍ የሚያ...   \n",
       "4  ገላግሌ የልጆች ምግብ መስሪያ\\nየልጆችን ልብ የሚያሸንፍ፣ የእናትን ጊዜ ...   \n",
       "\n",
       "                        Date                          Media Path  \n",
       "0  2025-06-20 15:46:18+00:00                                 NaN  \n",
       "1  2025-06-19 15:18:55+00:00  photos\\@meneshayeofficial_1035.jpg  \n",
       "2  2025-06-18 16:55:12+00:00                                 NaN  \n",
       "3  2025-06-18 09:06:42+00:00  photos\\@meneshayeofficial_1032.jpg  \n",
       "4  2025-06-17 16:00:09+00:00                                 NaN  "
      ]
     },
     "execution_count": 3,
     "metadata": {},
     "output_type": "execute_result"
    }
   ],
   "source": [
    "csv_path = Path('../data/raw/telegram_data.csv')\n",
    "df = pd.read_csv(csv_path)\n",
    "\n",
    "print(f\"Total messages loaded: {len(df)}\")\n",
    "df.head()"
   ]
  },
  {
   "cell_type": "markdown",
   "id": "6f426e9b",
   "metadata": {},
   "source": [
    "# 3. Apply full preprocessing pipeline to the 'Message' column"
   ]
  },
  {
   "cell_type": "code",
   "execution_count": 4,
   "id": "acd0030d",
   "metadata": {},
   "outputs": [
    {
     "name": "stderr",
     "output_type": "stream",
     "text": [
      "Token indices sequence length is longer than the specified maximum sequence length for this model (773 > 512). Running this sequence through the model will result in indexing errors\n"
     ]
    },
    {
     "name": "stdout",
     "output_type": "stream",
     "text": [
      "Total messages after cleaning: 7171\n"
     ]
    },
    {
     "data": {
      "text/html": [
       "<div>\n",
       "<style scoped>\n",
       "    .dataframe tbody tr th:only-of-type {\n",
       "        vertical-align: middle;\n",
       "    }\n",
       "\n",
       "    .dataframe tbody tr th {\n",
       "        vertical-align: top;\n",
       "    }\n",
       "\n",
       "    .dataframe thead th {\n",
       "        text-align: right;\n",
       "    }\n",
       "</style>\n",
       "<table border=\"1\" class=\"dataframe\">\n",
       "  <thead>\n",
       "    <tr style=\"text-align: right;\">\n",
       "      <th></th>\n",
       "      <th>Channel Title</th>\n",
       "      <th>Channel Username</th>\n",
       "      <th>ID</th>\n",
       "      <th>Message</th>\n",
       "      <th>Date</th>\n",
       "      <th>Media Path</th>\n",
       "      <th>cleaned_text</th>\n",
       "      <th>tokens</th>\n",
       "    </tr>\n",
       "  </thead>\n",
       "  <tbody>\n",
       "    <tr>\n",
       "      <th>0</th>\n",
       "      <td>መነሻዬ</td>\n",
       "      <td>@meneshayeofficial</td>\n",
       "      <td>1036</td>\n",
       "      <td>ለውድ ልጆዎ #ስጦታ ከመነሻዬ\\nምንም አይነት ባትሪና ኤሌክትሪክ የማይፈል...</td>\n",
       "      <td>2025-06-20 15:46:18+00:00</td>\n",
       "      <td>NaN</td>\n",
       "      <td>ውድ ልጆዎ ስጦታ መነሻዬ ምንም አይነት ባትሪና ኤሌክትሪክ ማይፈልጉ ልጆች...</td>\n",
       "      <td>[▁ውድ, ▁ል, ጆ, ዎ, ▁ስጦታ, ▁መነሻ, ዬ, ▁ምንም, ▁አይነት, ▁,...</td>\n",
       "    </tr>\n",
       "    <tr>\n",
       "      <th>1</th>\n",
       "      <td>መነሻዬ</td>\n",
       "      <td>@meneshayeofficial</td>\n",
       "      <td>1035</td>\n",
       "      <td>አማርኛና እንግሊዘኛ በቀላሉ ማንበብና መፃፍ የሚያስችል 150 ካርድ ያለው...</td>\n",
       "      <td>2025-06-19 15:18:55+00:00</td>\n",
       "      <td>photos\\@meneshayeofficial_1035.jpg</td>\n",
       "      <td>አማርኛና እንግሊዘኛ ቀላሉ ማንበብና መፃፍ ሚያስችል 150 ካርድ ያለው ባ...</td>\n",
       "      <td>[▁አማርኛ, ና, ▁, እንግ, ሊ, ዘ, ኛ, ▁ቀ, ላ, ሉ, ▁ማን, በብ,...</td>\n",
       "    </tr>\n",
       "    <tr>\n",
       "      <th>2</th>\n",
       "      <td>መነሻዬ</td>\n",
       "      <td>@meneshayeofficial</td>\n",
       "      <td>1034</td>\n",
       "      <td>የሂሳብ ሊቅ መነሻ ጥቅል\\n\\nልጆችዎ  ቁጥርን ከመቁጠር  ጀምሮ  ሂሳብን...</td>\n",
       "      <td>2025-06-18 16:55:12+00:00</td>\n",
       "      <td>NaN</td>\n",
       "      <td>ሂሳብ ሊቅ መነሻ ጥቅል ልጆችዎ ቁጥርን መቁጠር ጀምሮ ሂሳብን ቀላሉ ተግባ...</td>\n",
       "      <td>[▁, ሂ, ሳብ, ▁ሊ, ቅ, ▁መነሻ, ▁ጥ, ቅል, ▁ልጆች, ዎ, ▁ቁጥር,...</td>\n",
       "    </tr>\n",
       "  </tbody>\n",
       "</table>\n",
       "</div>"
      ],
      "text/plain": [
       "  Channel Title    Channel Username    ID  \\\n",
       "0          መነሻዬ  @meneshayeofficial  1036   \n",
       "1          መነሻዬ  @meneshayeofficial  1035   \n",
       "2          መነሻዬ  @meneshayeofficial  1034   \n",
       "\n",
       "                                             Message  \\\n",
       "0  ለውድ ልጆዎ #ስጦታ ከመነሻዬ\\nምንም አይነት ባትሪና ኤሌክትሪክ የማይፈል...   \n",
       "1  አማርኛና እንግሊዘኛ በቀላሉ ማንበብና መፃፍ የሚያስችል 150 ካርድ ያለው...   \n",
       "2  የሂሳብ ሊቅ መነሻ ጥቅል\\n\\nልጆችዎ  ቁጥርን ከመቁጠር  ጀምሮ  ሂሳብን...   \n",
       "\n",
       "                        Date                          Media Path  \\\n",
       "0  2025-06-20 15:46:18+00:00                                 NaN   \n",
       "1  2025-06-19 15:18:55+00:00  photos\\@meneshayeofficial_1035.jpg   \n",
       "2  2025-06-18 16:55:12+00:00                                 NaN   \n",
       "\n",
       "                                        cleaned_text  \\\n",
       "0  ውድ ልጆዎ ስጦታ መነሻዬ ምንም አይነት ባትሪና ኤሌክትሪክ ማይፈልጉ ልጆች...   \n",
       "1  አማርኛና እንግሊዘኛ ቀላሉ ማንበብና መፃፍ ሚያስችል 150 ካርድ ያለው ባ...   \n",
       "2  ሂሳብ ሊቅ መነሻ ጥቅል ልጆችዎ ቁጥርን መቁጠር ጀምሮ ሂሳብን ቀላሉ ተግባ...   \n",
       "\n",
       "                                              tokens  \n",
       "0  [▁ውድ, ▁ል, ጆ, ዎ, ▁ስጦታ, ▁መነሻ, ዬ, ▁ምንም, ▁አይነት, ▁,...  \n",
       "1  [▁አማርኛ, ና, ▁, እንግ, ሊ, ዘ, ኛ, ▁ቀ, ላ, ሉ, ▁ማን, በብ,...  \n",
       "2  [▁, ሂ, ሳብ, ▁ሊ, ቅ, ▁መነሻ, ▁ጥ, ቅል, ▁ልጆች, ዎ, ▁ቁጥር,...  "
      ]
     },
     "execution_count": 4,
     "metadata": {},
     "output_type": "execute_result"
    }
   ],
   "source": [
    "df_processed = preprocess_dataframe(df, text_col='Message')\n",
    "\n",
    "print(f\"Total messages after cleaning: {len(df_processed)}\")\n",
    "df_processed.head(3)\n"
   ]
  },
  {
   "cell_type": "markdown",
   "id": "82e0dc5b",
   "metadata": {},
   "source": [
    "# 4. View some examples with tokens"
   ]
  },
  {
   "cell_type": "code",
   "execution_count": 5,
   "id": "65b1074a",
   "metadata": {},
   "outputs": [
    {
     "name": "stdout",
     "output_type": "stream",
     "text": [
      "Original Message:\n",
      "Nike roshe run high\n",
      "Made in Vietnam\n",
      "Price 1300 birr\n",
      "Contact me @Sofonias12 or call 0920238243\n",
      "\n",
      "Cleaned Text:\n",
      "1300 12 0920238243\n",
      "\n",
      "Tokens:\n",
      "['▁1300', '▁12', '▁09', '20', '23', '82', '43']\n",
      "\n",
      "------------------------------------------------------------\n",
      "Original Message:\n",
      "❗️ጃር ዉሃ  ከመግዛት ይገላገሉ❗️\n",
      "የውሀ ማጣሪያ በ በ 16 ሊትር የቀረበ\n",
      "    ✔️ ውሀን በጥሩ ሁኔታ እና በጥራት ከላምንም ኬሚካል የሚያጣራ !\n",
      "\n",
      "       16 ሊትር ✔️ 3200 ብር\n",
      "ያሉበት ቦታ ያለተጨማሪ ክፍያ ይዘዙ\n",
      "#ክፍያዎን_ ዕቃዉ _እጅዎ ሲደርስ_ከፈለጉ_በካሽ_አልያም_በሞባይል_ባንኪንግ_መፈፀም_ይችላሉ በተጨማሪ #ከ_1000_ብር በላይ የሚተመኑ #ሁለት_ዕቃዎችን_ ሲገዙ ስጦታ እንልክለዎታለን \n",
      "🎁 T.me/LeyueQa 👈ቻናላችንን ለጓደኛዎ ሸር ማድረግዎን አይርሱ \n",
      "           \n",
      "  0933334444      @LeMazez_z\n",
      "  0944109295      @Lemaze_z\n",
      "  0946242424      @Le_Mazez\n",
      "\n",
      "Cleaned Text:\n",
      "ጃር ዉሃ መግዛት ይገላገሉ ውሀ ማጣሪያ በ በ 16 ሊትር ቀረበ ውሀን ጥሩ ሁኔታ እና ጥራት ላምንም ኬሚካል ሚያጣራ ! 16 ሊትር 3200 ብር ያሉበት ቦታ ያለተጨማሪ ክፍያ ይዘዙ ክፍያዎን ዕቃዉ እጅዎ ሲደርስከፈለጉበካሽአልያምበሞባይልባንኪንግመፈፀምይችላሉ ተጨማሪ 1000ብር ላይ ሚተመኑ ሁለትዕቃዎችን ሲገዙ ስጦታ እንልክለዎታለን . ቻናላችንን ጓደኛዎ ሸር ማድረግዎን አይርሱ 0933334444 0944109295 0946242424\n",
      "\n",
      "Tokens:\n",
      "['▁', 'ጃ', 'ር', '▁', 'ዉ', 'ሃ', '▁', 'መግዛት', '▁ይ', 'ገላ', 'ገ', 'ሉ', '▁', 'ው', 'ሀ', '▁ማ', 'ጣ', 'ሪያ', '▁በ', '▁በ', '▁16', '▁ሊ', 'ትር', '▁', 'ቀረበ', '▁', 'ው', 'ሀ', 'ን', '▁ጥሩ', '▁ሁኔታ', '▁እና', '▁', 'ጥራት', '▁ላ', 'ምንም', '▁', 'ኬ', 'ሚ', 'ካል', '▁', 'ሚያ', 'ጣ', 'ራ', '▁!', '▁16', '▁ሊ', 'ትር', '▁3', '200', '▁ብር', '▁ያሉ', 'በት', '▁ቦታ', '▁ያለ', 'ተ', 'ጨ', 'ማሪ', '▁ክፍያ', '▁ይዘ', 'ዙ', '▁ክፍያ', 'ዎን', '▁ዕ', 'ቃ', 'ዉ', '▁እጅ', 'ዎ', '▁ሲ', 'ደርስ', 'ከ', 'ፈለጉ', 'በ', 'ካ', 'ሽ', 'አል', 'ያ', 'ም', 'በ', 'ሞባይል', 'ባን', 'ኪ', 'ንግ', 'መ', 'ፈፀም', 'ይ', 'ች', 'ላ', 'ሉ', '▁ተጨማሪ', '▁1000', 'ብር', '▁ላይ', '▁ሚ', 'ተ', 'መ', 'ኑ', '▁ሁለት', 'ዕ', 'ቃ', 'ዎችን', '▁ሲ', 'ገ', 'ዙ', '▁ስጦታ', '▁እን', 'ልክ', 'ለ', 'ዎ', 'ታ', 'ለን', '▁', '.', '▁', 'ቻ', 'ና', 'ላችን', 'ን', '▁ጓደኛ', 'ዎ', '▁ሸ', 'ር', '▁ማድረግ', 'ዎን', '▁አይ', 'ርሱ', '▁09', '333', '34', '444', '▁09', '44', '10', '92', '95', '▁09', '46', '24', '24', '24']\n",
      "\n",
      "------------------------------------------------------------\n",
      "Original Message:\n",
      "🧳🧳🧳🧳ለደረቅ ነገሮች መፍጫ የቀረበ\n",
      "❇️GRINDER Machine \n",
      "❇️የቡና እና የቅመማ ቅመም መፍጫ \n",
      "ማንኛዉንም ደረቅ ነገር በሰከንዶች የሚፈጭ\n",
      "1ኛ ደረጃ ኦሪጅናል ዕቃ NEW imported\n",
      "\n",
      "🚩እጅግ በጣም ጠንካራ \n",
      "🚩ለደረቅ ቅመማ ቅመሞች የሚሆን\n",
      "🚩ሙሉ ለሙሉ ብረት (Stainless steel)\n",
      "🚩የራሱ መለዋወጫ ጥርስ ያለው\n",
      "\n",
      "በ 100 ግ  ✔️ 3100 ብር\n",
      "በ 200 ግ  ✔️ 4200 ብር\n",
      "በ 400 ግ  ✔️ 5200\n",
      "በ 500 ግ  ✔️ 7100\n",
      "በ 1000 ግ ✔️9700\n",
      " \n",
      "💥👉 ያሉበት ድረስ በነፃ እናደርሳለን 🚗\n",
      "          \n",
      "\n",
      "          0933334444 @LeMazez_z\n",
      "          0946242424 @Le_Mazez\n",
      "          0944109295 @Lemaze_z\n",
      "\n",
      "Cleaned Text:\n",
      "ደረቅ ነገሮች መፍጫ ቀረበ ቡና እና ቅመማ ቅመም መፍጫ ማንኛዉንም ደረቅ ነገር ሰከንዶች ሚፈጭ 1ኛ ደረጃ ኦሪጅናል ዕቃ እጅግ ጣም ጠንካራ ደረቅ ቅመማ ቅመሞች ሚሆን ሙሉ ሙሉ ብረት ራሱ መለዋወጫ ጥርስ ያለው በ 100 ግ 3100 ብር በ 200 ግ 4200 ብር በ 400 ግ 5200 በ 500 ግ 7100 በ 1000 ግ 9700 ያሉበት ድረስ ነፃ እናደርሳለን 0933334444 0946242424 0944109295\n",
      "\n",
      "Tokens:\n",
      "['▁', 'ደረ', 'ቅ', '▁ነገሮች', '▁መ', 'ፍ', 'ጫ', '▁', 'ቀረበ', '▁ቡና', '▁እና', '▁ቅ', 'መ', 'ማ', '▁ቅ', 'መም', '▁መ', 'ፍ', 'ጫ', '▁ማን', 'ኛ', 'ዉን', 'ም', '▁', 'ደረ', 'ቅ', '▁ነገር', '▁ሰ', 'ከን', 'ዶች', '▁ሚ', 'ፈ', 'ጭ', '▁1', 'ኛ', '▁ደረጃ', '▁ኦ', 'ሪ', 'ጅ', 'ናል', '▁ዕ', 'ቃ', '▁እጅግ', '▁', 'ጣ', 'ም', '▁ጠንካራ', '▁', 'ደረ', 'ቅ', '▁ቅ', 'መ', 'ማ', '▁ቅ', 'መ', 'ሞች', '▁ሚ', 'ሆን', '▁ሙሉ', '▁ሙሉ', '▁', 'ብረት', '▁', 'ራሱ', '▁መ', 'ለዋ', 'ወ', 'ጫ', '▁ጥ', 'ርስ', '▁ያለው', '▁በ', '▁100', '▁ግ', '▁3', '100', '▁ብር', '▁በ', '▁200', '▁ግ', '▁4', '200', '▁ብር', '▁በ', '▁400', '▁ግ', '▁5', '200', '▁በ', '▁500', '▁ግ', '▁7', '100', '▁በ', '▁1000', '▁ግ', '▁9', '700', '▁ያሉ', 'በት', '▁ድረስ', '▁ነፃ', '▁እና', 'ደር', 'ሳ', 'ለን', '▁09', '333', '34', '444', '▁09', '46', '24', '24', '24', '▁09', '44', '10', '92', '95']\n",
      "\n",
      "------------------------------------------------------------\n",
      "Original Message:\n",
      "Nike Posite \n",
      "size 41,42,44,45\n",
      "Price 3500 birr\n",
      "🏢አድራሻ-ሜክሲኮ ኮሜርስ ጀርባ መዚድ ፕላዛ አንደኛ ደረጃ እንደወጡ ያገኙናል or call 0920238243\n",
      "\n",
      "Cleaned Text:\n",
      "41,42,44,45 3500 አድራሻሜክሲኮ ኮሜርስ ጀርባ መዚድ ፕላዛ አንደኛ ደረጃ እንደወጡ ያገኙናል 0920238243\n",
      "\n",
      "Tokens:\n",
      "['▁41', ',', '42', ',', '44', ',', '45', '▁3500', '▁አድራሻ', 'ሜ', 'ክሲ', 'ኮ', '▁ኮ', 'ሜ', 'ርስ', '▁ጀርባ', '▁መ', 'ዚ', 'ድ', '▁', 'ፕ', 'ላ', 'ዛ', '▁', 'አንደኛ', '▁ደረጃ', '▁እንደ', 'ወጡ', '▁', 'ያገኙ', 'ናል', '▁09', '20', '23', '82', '43']\n",
      "\n",
      "------------------------------------------------------------\n",
      "Original Message:\n",
      "All-star converse womens \n",
      "Made in Vietnam\n",
      "Price 1250 birr\n",
      "Contact me @Sofonias12 or call 0920238243\n",
      "\n",
      "Cleaned Text:\n",
      "1250 12 0920238243\n",
      "\n",
      "Tokens:\n",
      "['▁12', '50', '▁12', '▁09', '20', '23', '82', '43']\n",
      "\n",
      "------------------------------------------------------------\n"
     ]
    }
   ],
   "source": [
    "for i, row in df_processed.sample(5).iterrows():\n",
    "    print(f\"Original Message:\\n{row['Message']}\\n\")\n",
    "    print(f\"Cleaned Text:\\n{row['cleaned_text']}\\n\")\n",
    "    print(f\"Tokens:\\n{row['tokens']}\\n\")\n",
    "    print(\"-\"*60)\n"
   ]
  },
  {
   "cell_type": "markdown",
   "id": "1d45d22b",
   "metadata": {},
   "source": [
    "# 5. Save the cleaned and tokenized data for next steps\n"
   ]
  },
  {
   "cell_type": "code",
   "execution_count": 7,
   "id": "84be1a86",
   "metadata": {},
   "outputs": [
    {
     "name": "stdout",
     "output_type": "stream",
     "text": [
      "[✅] Saved cleaned and tokenized data to ..\\data\\processed\\preprocessed_messages.csv\n"
     ]
    }
   ],
   "source": [
    "output_path = Path('../data/processed/preprocessed_messages.csv')\n",
    "output_path.parent.mkdir(parents=True, exist_ok=True)\n",
    "\n",
    "df_processed.to_csv(output_path, index=False, encoding='utf-8-sig')\n",
    "print(f\"[✅] Saved cleaned and tokenized data to {output_path}\")\n"
   ]
  }
 ],
 "metadata": {
  "kernelspec": {
   "display_name": ".venv",
   "language": "python",
   "name": "python3"
  },
  "language_info": {
   "codemirror_mode": {
    "name": "ipython",
    "version": 3
   },
   "file_extension": ".py",
   "mimetype": "text/x-python",
   "name": "python",
   "nbconvert_exporter": "python",
   "pygments_lexer": "ipython3",
   "version": "3.13.5"
  }
 },
 "nbformat": 4,
 "nbformat_minor": 5
}
