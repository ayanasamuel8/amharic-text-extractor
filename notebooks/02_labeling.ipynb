{
 "cells": [
  {
   "cell_type": "markdown",
   "id": "2600de29",
   "metadata": {},
   "source": [
    "# loading data and taking the first 50 message for labeling"
   ]
  },
  {
   "cell_type": "code",
   "execution_count": 1,
   "id": "1d1e1a38",
   "metadata": {},
   "outputs": [],
   "source": [
    "from transformers import AutoTokenizer\n",
    "import pandas as pd\n",
    "\n",
    "# Load data\n",
    "df = pd.read_csv(\"../data/processed/preprocessed_messages.csv\")\n",
    "\n",
    "# Cleaned and tokenized text\n",
    "tokenizer = AutoTokenizer.from_pretrained(\"xlm-roberta-base\")\n",
    "\n",
    "# Pick first 50 non-empty messages\n",
    "sample_df = df[df['cleaned_text'].notnull()].head(50).copy()\n",
    "\n",
    "def tokenize_for_conll(text):\n",
    "    tokens = tokenizer.tokenize(text)\n",
    "    return tokens\n",
    "\n",
    "sample_df['tokens'] = sample_df['cleaned_text'].apply(tokenize_for_conll)\n",
    "sample_df = sample_df[['cleaned_text', 'tokens']]\n"
   ]
  },
  {
   "cell_type": "markdown",
   "id": "02e51758",
   "metadata": {},
   "source": [
    "## taking default `0` labeling for speed up the manual labeling and after that manual labeling will continue"
   ]
  },
  {
   "cell_type": "code",
   "execution_count": 3,
   "id": "343f90ce",
   "metadata": {},
   "outputs": [],
   "source": [
    "with open(\"../data/labeled_conll/labeled_50.conll\", \"w\", encoding=\"utf-8\") as f:\n",
    "    for _, row in sample_df.iterrows():\n",
    "        for token in row['tokens']:\n",
    "            f.write(f\"{token} O\\n\")  # Default label is 'O'\n",
    "        f.write(\"\\n\")\n"
   ]
  }
 ],
 "metadata": {
  "kernelspec": {
   "display_name": ".venv",
   "language": "python",
   "name": "python3"
  },
  "language_info": {
   "codemirror_mode": {
    "name": "ipython",
    "version": 3
   },
   "file_extension": ".py",
   "mimetype": "text/x-python",
   "name": "python",
   "nbconvert_exporter": "python",
   "pygments_lexer": "ipython3",
   "version": "3.13.5"
  }
 },
 "nbformat": 4,
 "nbformat_minor": 5
}
