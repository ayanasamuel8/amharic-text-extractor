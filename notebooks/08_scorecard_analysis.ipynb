{
 "cells": [
  {
   "cell_type": "code",
   "execution_count": 12,
   "id": "cd495e0b",
   "metadata": {},
   "outputs": [],
   "source": [
    "import sys\n",
    "sys.path.append('../scripts')"
   ]
  },
  {
   "cell_type": "code",
   "execution_count": null,
   "id": "24d24bd6",
   "metadata": {},
   "outputs": [
    {
     "name": "stderr",
     "output_type": "stream",
     "text": [
      "Device set to use cpu\n",
      "c:\\Users\\user\\OneDrive\\Documents\\Data Science\\amharic-text-extractor\\EthioMart-NER-Project\\.venv\\Lib\\site-packages\\transformers\\pipelines\\token_classification.py:170: UserWarning: `grouped_entities` is deprecated and will be removed in version v5.0.0, defaulted to `aggregation_strategy=\"AggregationStrategy.SIMPLE\"` instead.\n",
      "  warnings.warn(\n"
     ]
    }
   ],
   "source": [
    "# 1. Imports\n",
    "import pandas as pd\n",
    "from ner_utils import load_ner_pipeline, enrich_dataframe_with_entities\n",
    "from vendor_metrics import prepare_prices, compute_vendor_metrics, save_scorecard\n",
    "\n",
    "# 2. Load Cleaned Telegram Data\n",
    "df = pd.read_csv(\"../data/processed/cleaned_messages.csv\")\n",
    "\n",
    "# 3. Load Fine-tuned NER Pipeline\n",
    "model_path = \"../data/processed/fine_tunned_XLM-Roberta\"\n",
    "ner_pipe = load_ner_pipeline(model_path)\n",
    "\n",
    "# 4. Extract Entities (Price & Product)\n",
    "df = enrich_dataframe_with_entities(df, text_col=\"cleaned_text\", ner_pipeline=ner_pipe)\n",
    "\n",
    "# 5. Parse Numerical Prices\n",
    "df = prepare_prices(df)\n",
    "\n",
    "# 6. Compute Vendor Metrics\n",
    "scorecard = compute_vendor_metrics(df)\n",
    "\n",
    "# 7. Save Scorecard\n",
    "save_scorecard(scorecard)\n",
    "\n",
    "# 8. Display Table\n",
    "scorecard.sort_values(by=\"Lending Score\", ascending=False)\n"
   ]
  }
 ],
 "metadata": {
  "kernelspec": {
   "display_name": ".venv",
   "language": "python",
   "name": "python3"
  },
  "language_info": {
   "codemirror_mode": {
    "name": "ipython",
    "version": 3
   },
   "file_extension": ".py",
   "mimetype": "text/x-python",
   "name": "python",
   "nbconvert_exporter": "python",
   "pygments_lexer": "ipython3",
   "version": "3.13.5"
  }
 },
 "nbformat": 4,
 "nbformat_minor": 5
}
